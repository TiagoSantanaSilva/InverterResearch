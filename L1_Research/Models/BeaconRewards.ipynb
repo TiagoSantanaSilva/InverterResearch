{
 "cells": [
  {
   "cell_type": "markdown",
   "metadata": {},
   "source": [
    "# Simulating validator rewards in Altair"
   ]
  },
  {
   "cell_type": "markdown",
   "metadata": {},
   "source": [
    "# 1. How to use\n",
    "\n",
    "In this noteboook we test the rewards given out by the protocol to different types of validators. Our **_fast_** config reduces the size of most constants to avoid allocating more memory than necessary (we'll only test with a few validators). We also reduce the number of slots per epoch to speed things up. All these changes are without loss of generality.\n",
    "\n",
    "You may test various spec versions by renaming either of the **_specs_*.py_** files in the **_beaconrunner_** folder to **_specs.py_**. Current version tested is v1.1.0-alpha.7."
   ]
  },
  {
   "cell_type": "code",
   "execution_count": null,
   "metadata": {},
   "outputs": [],
   "source": [
    "import os, sys\n",
    "sys.path.insert(1, os.path.realpath(os.path.pardir))\n",
    "sys.path.insert(1, os.path.realpath(os.path.pardir) + \"/beaconrunner\")\n",
    "import beaconrunner as br\n",
    "\n",
    "import types\n",
    "from eth2spec.utils.ssz.ssz_impl import hash_tree_root\n",
    "\n",
    "from cadCAD_tools.profiling.visualizations import visualize_substep_impact\n",
    "\n",
    "import pandas as pd\n",
    "import plotly.express as px\n",
    "import plotly.io as pio\n",
    "pd.options.plotting.backend = \"plotly\"\n",
    "pio.renderers.default = \"plotly_mimetype+notebook_connected\"\n",
    "import plotly.graph_objects as go"
   ]
  },
  {
   "cell_type": "markdown",
   "metadata": {},
   "source": [
    "Below are metrics extracted from the state of the simulation. We don't really care about most of them except for **_get_current_validator_state_**, but they are left here for future use/reference."
   ]
  },
  {
   "cell_type": "code",
   "execution_count": null,
   "metadata": {},
   "outputs": [],
   "source": [
    "def extract_state(s):\n",
    "    validators = s[\"network\"].validators\n",
    "    validator = validators[1]\n",
    "    head = br.specs.get_head(validator.store)\n",
    "    current_state = validator.store.block_states[head].copy()\n",
    "    return current_state\n",
    "\n",
    "def current_slot(params, step, sL, s, _input):\n",
    "    return (\"current_slot\", s[\"network\"].validators[0].data.slot)\n",
    "\n",
    "def total_balance_asap(params, step, sL, s, _input):\n",
    "    validators = s[\"network\"].validators\n",
    "    current_state = extract_state(s)\n",
    "    current_epoch = br.specs.get_current_epoch(current_state)\n",
    "    asap_indices = [i for i, v in enumerate(validators) if v.validator_behaviour == \"asap\"]\n",
    "    asap_balances = [b for i, b in enumerate(current_state.balances) if i in asap_indices]\n",
    "    return (\"total_balance_asap\", sum(asap_balances))\n",
    "\n",
    "def get_base_reward(params, step, sL, s, _input):\n",
    "    current_state = extract_state(s)\n",
    "    base_reward = br.specs.get_base_reward(current_state, 0)\n",
    "    return (\"base_reward\", base_reward)\n",
    "\n",
    "def get_block_proposer(params, step, sL, s, _input):\n",
    "    current_state = extract_state(s)\n",
    "    block_proposer = [v.validator_index for v in s[\"network\"].validators if v.data.current_proposer_duties[s[\"current_slot\"] % br.specs.SLOTS_PER_EPOCH]][0]\n",
    "    return (\"block_proposer\", block_proposer)\n",
    "\n",
    "def get_block_proposer_balance(params, step, sL, s, _input):\n",
    "    current_state = extract_state(s)\n",
    "    block_proposer_balance = current_state.balances[s[\"block_proposer\"]]\n",
    "    return (\"block_proposer_balance\", block_proposer_balance)\n",
    "\n",
    "def get_sync_committee(params, step, sL, s, _input):\n",
    "    current_state = extract_state(s)\n",
    "    current_epoch = br.specs.get_current_epoch(current_state)\n",
    "    sync_committee = current_state.current_sync_committee.pubkeys\n",
    "    val_pubkeys = [v.pubkey for v in current_state.validators]\n",
    "    sync_committee_indices = [val_pubkeys.index(pubkey) for pubkey in sync_comittee]\n",
    "    return (\"sync_committee\", sync_committee_indices)\n",
    "\n",
    "def get_head(params, step, sL, s, _input):\n",
    "    validators = s[\"network\"].validators\n",
    "    validator = validators[0]\n",
    "    head = br.specs.get_head(validator.store).hex()[0:6]\n",
    "    return (\"head\", head)\n",
    "\n",
    "def get_current_validator_state(params, step, sL, s, _input):\n",
    "    current_state = extract_state(s)\n",
    "    current_validator_state = []\n",
    "    for v in s[\"network\"].validators:\n",
    "        current_validator_state += [{\n",
    "            \"slot\": v.data.slot,\n",
    "            \"validator_index\": v.validator_index,\n",
    "            \"balance\": current_state.balances[v.validator_index],\n",
    "            \"block_proposer\": 1 if s[\"block_proposer\"] == v.validator_index else 0,\n",
    "            \"attester\": 1 if v.data.current_attest_slot == v.data.slot else 0,\n",
    "            \"sync_committee\": len(v.data.current_sync_committee),\n",
    "        }]\n",
    "    return (\"current_validator_state\", current_validator_state)\n",
    "\n",
    "observers = {\n",
    "    \"current_slot\": current_slot,\n",
    "    \"total_balance_asap\": total_balance_asap,\n",
    "    \"base_reward\": get_base_reward,\n",
    "    \"block_proposer\": get_block_proposer,\n",
    "    \"block_proposer_balance\": get_block_proposer_balance,\n",
    "#     \"sync_committee\": get_sync_committee,\n",
    "    \"head\": get_head,\n",
    "    \"current_validator_state\": get_current_validator_state,\n",
    "}\n"
   ]
  },
  {
   "cell_type": "markdown",
   "metadata": {},
   "source": [
    "Run the simulation."
   ]
  },
  {
   "cell_type": "code",
   "execution_count": null,
   "metadata": {},
   "outputs": [],
   "source": [
    "from random import sample\n",
    "from beaconrunner.validators.ASAPValidator import ASAPValidator\n",
    "\n",
    "num_validators = 20\n",
    "\n",
    "# Initiate validators\n",
    "validators = []\n",
    "for i in range(num_validators):\n",
    "    new_validator = ASAPValidator(i)\n",
    "    validators.append(new_validator)\n",
    "\n",
    "# Create a genesis state\n",
    "(genesis_state, genesis_block) = br.simulator.get_genesis_state_block(validators)\n",
    "\n",
    "# Validators load the state\n",
    "[v.load_state(genesis_state.copy(), genesis_block.copy()) for v in validators]\n",
    "\n",
    "# We skip the genesis block\n",
    "br.simulator.skip_genesis_block(validators)\n",
    "# print(genesis_state)\n",
    "\n",
    "# Create the network\n",
    "set_a = br.network.NetworkSet(validators=list(range(num_validators)))\n",
    "network_sets = list([set_a])\n",
    "network = br.network.Network(validators = validators, sets = network_sets)\n",
    "\n",
    "# Set simulation parameters\n",
    "parameters = br.simulator.SimulationParameters({\n",
    "    \"num_epochs\": 4,\n",
    "    \"run_index\": 1,\n",
    "    \"frequency\": 1,\n",
    "    \"network_update_rate\": 1.0,\n",
    "})\n",
    "\n",
    "df = br.simulator.simulate(network, parameters, observers) "
   ]
  },
  {
   "cell_type": "code",
   "execution_count": null,
   "metadata": {},
   "outputs": [],
   "source": [
    "df = df.drop(columns=['network'])"
   ]
  },
  {
   "cell_type": "markdown",
   "metadata": {},
   "source": [
    "We collect the validator state data in a separate dataframe, of schema (**_slot, validator_index, balance, block_proposer, attester, sync_committee_**). We ignore the first few epochs (rewards aren't given out, or imperfectly) and make sure the key (**_slot, validator_index_**) is unique."
   ]
  },
  {
   "cell_type": "code",
   "execution_count": null,
   "metadata": {},
   "outputs": [],
   "source": [
    "df"
   ]
  },
  {
   "cell_type": "code",
   "execution_count": null,
   "metadata": {},
   "outputs": [],
   "source": [
    "\n",
    "visualize_substep_impact(df, relative=False)"
   ]
  },
  {
   "cell_type": "code",
   "execution_count": null,
   "metadata": {},
   "outputs": [],
   "source": [
    "\n",
    "import itertools\n",
    "import pandas as pd\n",
    "pd.set_option('display.max_rows', 100)\n",
    "validator_df = pd.DataFrame(\n",
    "    itertools.chain(*df[((df.substep == 0) | (df.substep == max(df.substep))) & (df.timestep % 12 == 1) & (df.current_slot > 11)][\"current_validator_state\"].iloc[:])\n",
    ")\n",
    "validator_df[\"previous_balance\"] = validator_df.groupby([\"validator_index\"])[[\"balance\"]].shift()\n",
    "validator_df[\"balance_diff\"] = validator_df[\"balance\"] - validator_df[\"previous_balance\"]\n",
    "validator_df = validator_df[validator_df.slot > 12]"
   ]
  },
  {
   "cell_type": "markdown",
   "metadata": {},
   "source": [
    "# 2. Obtaining rewards per duty"
   ]
  },
  {
   "cell_type": "markdown",
   "metadata": {},
   "source": [
    "We isolate validators who occupied a unique role over a slot to obtain the rewards for block proposers and sync committee members. When rewards are given out during the epoch transition, the minimum received by any validator is received by a validator who neither proposed a block for the whole epoch and was never part of the sync committee, giving us the attester reward received by one validator."
   ]
  },
  {
   "cell_type": "code",
   "execution_count": null,
   "metadata": {},
   "outputs": [],
   "source": [
    "block_proposer_reward = validator_df[(validator_df.block_proposer == 1) & (validator_df.sync_committee == 0)].iloc[0][\"balance_diff\"]\n",
    "print(f\"block proposer reward = {block_proposer_reward}\")"
   ]
  },
  {
   "cell_type": "code",
   "execution_count": null,
   "metadata": {},
   "outputs": [],
   "source": [
    "\n",
    "attester_reward = min(validator_df[validator_df.slot % br.specs.SLOTS_PER_EPOCH == 0][\"balance_diff\"])\n",
    "print(f\"attester reward = {attester_reward}\")"
   ]
  },
  {
   "cell_type": "code",
   "execution_count": null,
   "metadata": {},
   "outputs": [],
   "source": [
    "sync_committee_reward = validator_df[(validator_df.block_proposer == 0) & (validator_df.sync_committee == 1)].iloc[0][\"balance_diff\"]\n",
    "print(f\"sync committee reward = {sync_committee_reward}\")"
   ]
  },
  {
   "cell_type": "code",
   "execution_count": null,
   "metadata": {},
   "outputs": [],
   "source": [
    "\n",
    "base_reward = df.iloc[0][\"base_reward\"]\n",
    "print(f\"base reward = {base_reward}\")"
   ]
  },
  {
   "cell_type": "markdown",
   "metadata": {},
   "source": [
    "Make our checks."
   ]
  },
  {
   "cell_type": "code",
   "execution_count": null,
   "metadata": {},
   "outputs": [],
   "source": [
    "total_per_epoch = num_validators * base_reward\n",
    "total_for_proposers = int(br.specs.SLOTS_PER_EPOCH) * block_proposer_reward\n",
    "expected_proposers = float(br.specs.PROPOSER_WEIGHT) / br.specs.WEIGHT_DENOMINATOR\n",
    "\n",
    "total_for_attesters = num_validators * attester_reward\n",
    "expected_attesters = float(br.specs.TIMELY_SOURCE_WEIGHT + br.specs.TIMELY_TARGET_WEIGHT + br.specs.TIMELY_HEAD_WEIGHT) / br.specs.WEIGHT_DENOMINATOR\n",
    "\n",
    "total_for_sync_committee = int(br.specs.SLOTS_PER_EPOCH) * int(br.specs.SYNC_COMMITTEE_SIZE) * sync_committee_reward\n",
    "expected_sync = float(br.specs.SYNC_REWARD_WEIGHT) / br.specs.WEIGHT_DENOMINATOR\n",
    "\n",
    "print(f\"expected total per epoch = {total_per_epoch} vs. realised total = {total_for_proposers + total_for_attesters + total_for_sync_committee}\")\n",
    "print(f\"percent of attester rewards = {total_for_attesters / total_per_epoch}, expected {expected_attesters}\")\n",
    "print(f\"percent of sync committee rewards = {total_for_sync_committee / total_per_epoch}, expected {expected_sync}\")\n",
    "print(f\"percent of block proposer rewards = {total_for_proposers / total_per_epoch}, expected {expected_proposers}\")"
   ]
  }
 ],
 "metadata": {
  "kernelspec": {
   "display_name": "cacad-edu",
   "language": "python",
   "name": "python3"
  },
  "language_info": {
   "name": "python",
   "version": "3.9.12"
  }
 },
 "nbformat": 4,
 "nbformat_minor": 2
}
